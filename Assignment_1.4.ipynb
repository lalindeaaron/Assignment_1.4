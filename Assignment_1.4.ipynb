{
 "cells": [
  {
   "cell_type": "code",
   "execution_count": null,
   "metadata": {},
   "outputs": [],
   "source": [
    "#this will find the volume of a sphere with a diameter of 12cm\n",
    "#first we must import pie\n",
    "import math\n",
    "p = math.pi\n",
    "d = 12\n",
    "r = d/2\n" #this is to find the radius since they only give you diameter,
    "V = (4/3)*p*(r)**3 #this is the formula used to find a volume of a sphere V= 4/3*pi*r^3\n",
    "print(V)"
   ]
  }
 ],
 "metadata": {
  "kernelspec": {
   "display_name": "Python 3",
   "language": "python",
   "name": "python3"
  },
  "language_info": {
   "codemirror_mode": {
    "name": "ipython",
    "version": 3
   },
   "file_extension": ".py",
   "mimetype": "text/x-python",
   "name": "python",
   "nbconvert_exporter": "python",
   "pygments_lexer": "ipython3",
   "version": "3.6.4"
  }
 },
 "nbformat": 4,
 "nbformat_minor": 2
}
